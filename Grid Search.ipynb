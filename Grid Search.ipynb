{
  "nbformat": 4,
  "nbformat_minor": 0,
  "metadata": {
    "colab": {
      "name": "Grid Search.ipynb",
      "provenance": [],
      "collapsed_sections": []
    },
    "kernelspec": {
      "name": "python3",
      "display_name": "Python 3"
    },
    "language_info": {
      "name": "python"
    }
  },
  "cells": [
    {
      "cell_type": "markdown",
      "metadata": {
        "id": "lKeDZN1rvnu8"
      },
      "source": [
        "**Import des fichiers via google drive**"
      ]
    },
    {
      "cell_type": "code",
      "metadata": {
        "id": "eEFqsiK8gdUQ",
        "colab": {
          "base_uri": "https://localhost:8080/"
        },
        "outputId": "f583e011-806c-4d1c-e3c5-6fe6cb22bed8"
      },
      "source": [
        "import os\n",
        "import numpy\n",
        " \n",
        "from google.colab import drive\n",
        "from pathlib import Path\n",
        "from tensorflow.keras.models import Sequential, Model\n",
        "from tensorflow.keras.layers import Dense, Dropout, Activation\n",
        "from keras.utils import np_utils\n",
        "from sklearn.metrics import confusion_matrix\n",
        "from sklearn.model_selection import GridSearchCV\n",
        "from keras.wrappers.scikit_learn import KerasClassifier\n",
        "from keras.constraints import maxnorm\n",
        " \n",
        " \n",
        "working_dir = 'drive/MyDrive/Projet_IA' # chemin vers le dossier de travail \n",
        "data_dir='drive/MyDrive/Data_IA' # chemin vers le dossier data dans lequel sont déposés les dataset\n",
        " \n",
        "def init_drive():\n",
        "  # point de montage de google drive dans google colab\n",
        "  drive.mount('drive', force_remount=True)\n",
        "  # création du dossier de travail si celui-ci n'existe pas\n",
        "  if not os.path.exists(working_dir):\n",
        "    os.mkdir(working_dir)\n",
        " \n",
        "init_drive()"
      ],
      "execution_count": null,
      "outputs": [
        {
          "output_type": "stream",
          "text": [
            "Mounted at drive\n"
          ],
          "name": "stdout"
        }
      ]
    },
    {
      "cell_type": "markdown",
      "metadata": {
        "id": "OYPaQvF9wkDY"
      },
      "source": [
        "**Mise en forme des listes**"
      ]
    },
    {
      "cell_type": "code",
      "metadata": {
        "id": "zhZ6CFBIh7T7",
        "colab": {
          "base_uri": "https://localhost:8080/"
        },
        "outputId": "03e5de38-3790-4716-947a-c3ed7d09a571"
      },
      "source": [
        "import csv\n",
        "import numpy as np\n",
        "#mise en forme des bases de données\n",
        "def load_datatraj(filename):\n",
        "  Data=[]\n",
        "  with open(\"{}/{}.csv\".format(data_dir,filename),newline='') as f:\n",
        "    reader = csv.reader(f,delimiter=',')\n",
        "    for row in reader:\n",
        "        Data.append(row)\n",
        "  return(Data)\n",
        "\n",
        "#on imprime pour pouvoir observer la forme des listes\n",
        "WB_Train=load_datatraj('WellBalanced_TrainSet')\n",
        "print(np.shape(WB_Train))\n",
        "\n",
        "R_Train=load_datatraj('Representative_TrainSet')\n",
        "print(np.shape(R_Train))\n",
        "\n",
        "for i in range(5):\n",
        "  print(WB_Train[i])\n",
        "print('\\n')\n",
        "\n",
        "\n",
        "\n",
        "for i in range (5):\n",
        "  print(R_Train[i])\n",
        "print('\\n')"
      ],
      "execution_count": null,
      "outputs": [
        {
          "output_type": "stream",
          "text": [
            "(240001, 10)\n",
            "(190041, 8)\n",
            "['', 'd', 'V init', 'A init', 'V max', 'A max', 'J max', 'Computation Time', 'Trajectory Time', 'Type']\n",
            "['0', '1.389109462430585', '0.3008668264305069', '-0.1330992443612482', '0.55674464392251', '0.13339235631837895', '0.6802527256381324', '0.0013391971588134766', '5.194156431713527', '13.0']\n",
            "['1', '1.4367443991963644', '-0.8154387299884486', '-0.21923437968257253', '0.8374613723010328', '0.6412069952273195', '0.46608249765730037', '0.0010459423065185547', '8.108824222885604', '14.0']\n",
            "['2', '0.1857562494851308', '-0.14081001821299094', '-0.2275365945635316', '0.3121660428478126', '0.8893537865652973', '0.6012699436251457', '0.0009183883666992188', '3.443038436664688', '8.0']\n",
            "['3', '-0.4129361363786339', '-0.09720940910816034', '0.007058463015909511', '0.10475813099172376', '0.21388530137215142', '0.6245550440242666', '0.0008175373077392578', '4.3667306584663965', '3.0']\n",
            "\n",
            "\n",
            "['', 'd', 'V init', 'A init', 'V max', 'A max', 'J max', 'Type']\n",
            "['0', '-1.0', '-0.7777777777777778', '-0.5555555555555556', '1.0', '1.0', '1.0', '12.0']\n",
            "['1', '-1.0', '-0.7777777777777778', '-0.5555555555555556', '1.0', '1.0', '0.9', '12.0']\n",
            "['2', '-1.0', '-0.7777777777777778', '-0.5555555555555556', '1.0', '1.0', '0.8', '12.0']\n",
            "['3', '-1.0', '-0.7777777777777778', '-0.5555555555555556', '1.0', '1.0', '0.7', '12.0']\n",
            "\n",
            "\n"
          ],
          "name": "stdout"
        }
      ]
    },
    {
      "cell_type": "code",
      "metadata": {
        "id": "gkry9UqUrKka",
        "colab": {
          "base_uri": "https://localhost:8080/"
        },
        "outputId": "52be15a2-0bce-468c-f693-b4588dd14d85"
      },
      "source": [
        "import numpy as np\n",
        "import matplotlib.pyplot as plt\n",
        "import sklearn.neural_network as nn\n",
        "\n",
        "WB_Train_entree = []\n",
        "WB_Train_sortie = []\n",
        "#on convertit les éléments des listes en float\n",
        "for i in range(1, len(WB_Train)):\n",
        "  WB_Train_sortie += [float(WB_Train[i][-1])]\n",
        "\n",
        "  Ls1 = []\n",
        "\n",
        "  for j in range(1,len(WB_Train[0])-3):\n",
        "    Ls1 += [float(WB_Train[i][j])]\n",
        "\n",
        "  WB_Train_entree += [Ls1]\n",
        "\n",
        "\n",
        "\n",
        "for i in range(10):\n",
        "  print(WB_Train_sortie[i],WB_Train_entree[i])\n",
        "\n",
        "\n"
      ],
      "execution_count": null,
      "outputs": [
        {
          "output_type": "stream",
          "text": [
            "13.0 [1.389109462430585, 0.3008668264305069, -0.1330992443612482, 0.55674464392251, 0.13339235631837895, 0.6802527256381324]\n",
            "14.0 [1.4367443991963644, -0.8154387299884486, -0.21923437968257253, 0.8374613723010328, 0.6412069952273195, 0.46608249765730037]\n",
            "8.0 [0.1857562494851308, -0.14081001821299094, -0.2275365945635316, 0.3121660428478126, 0.8893537865652973, 0.6012699436251457]\n",
            "3.0 [-0.4129361363786339, -0.09720940910816034, 0.007058463015909511, 0.10475813099172376, 0.21388530137215142, 0.6245550440242666]\n",
            "14.0 [1.3666157373633083, -0.4216393863279002, -0.7133843769724054, 0.9853054738562923, 0.8342310212075211, 0.4566910678944718]\n",
            "6.0 [-1.0208634391053335, 0.29993832752059235, -0.25211164192819707, 0.4466754535031039, 0.7286357096993018, 0.6981324828625648]\n",
            "8.0 [0.24177515044214726, 0.10978042432090696, -0.42285757475355934, 0.3322609305896898, 0.6091051231000234, 0.7322997702914207]\n",
            "8.0 [1.1040811732661624, -0.15256788712319702, -0.3129675021505469, 0.8539368601055333, 0.46913991362956886, 0.18708521898846764]\n",
            "10.0 [1.0375222190690214, -0.1970512316386757, 0.3254425957304493, 0.3281685762936436, 0.6885310209418559, 0.20069365091599128]\n",
            "13.0 [0.467274108377175, -0.36990082493934784, -0.3646654178570146, 0.5832831851793923, 0.5881839527695094, 0.9368707151034041]\n"
          ],
          "name": "stdout"
        }
      ]
    },
    {
      "cell_type": "code",
      "metadata": {
        "id": "aY6VRtjM4gQ3",
        "colab": {
          "base_uri": "https://localhost:8080/"
        },
        "outputId": "19c75ffa-c5ce-4ca5-d905-e9e46e27f5f7"
      },
      "source": [
        "R_Train_entree = []\n",
        "R_Train_sortie = []\n",
        "#on convertit les éléments des listes en float\n",
        "for i in range(1, len(R_Train)):\n",
        "  R_Train_sortie += [float(R_Train[i][-1])]\n",
        "  \n",
        "  Ls = []\n",
        "  for j in range(1,len(R_Train[0])-1):\n",
        "    Ls += [float(R_Train[i][j])]\n",
        "  \n",
        "  R_Train_entree += [Ls]\n",
        "\n",
        "for i in range(10):\n",
        "  print(R_Train_sortie[i],R_Train_entree[i])"
      ],
      "execution_count": null,
      "outputs": [
        {
          "output_type": "stream",
          "text": [
            "12.0 [-1.0, -0.7777777777777778, -0.5555555555555556, 1.0, 1.0, 1.0]\n",
            "12.0 [-1.0, -0.7777777777777778, -0.5555555555555556, 1.0, 1.0, 0.9]\n",
            "12.0 [-1.0, -0.7777777777777778, -0.5555555555555556, 1.0, 1.0, 0.8]\n",
            "12.0 [-1.0, -0.7777777777777778, -0.5555555555555556, 1.0, 1.0, 0.7]\n",
            "8.0 [-1.0, -0.7777777777777778, -0.33333333333333337, 1.0, 1.0, 1.0]\n",
            "8.0 [-1.0, -0.7777777777777778, -0.33333333333333337, 1.0, 1.0, 0.9]\n",
            "8.0 [-1.0, -0.7777777777777778, -0.33333333333333337, 1.0, 1.0, 0.8]\n",
            "8.0 [-1.0, -0.7777777777777778, -0.33333333333333337, 1.0, 1.0, 0.7]\n",
            "8.0 [-1.0, -0.7777777777777778, -0.33333333333333337, 1.0, 1.0, 0.6]\n",
            "8.0 [-1.0, -0.7777777777777778, -0.33333333333333337, 1.0, 1.0, 0.5]\n"
          ],
          "name": "stdout"
        }
      ]
    },
    {
      "cell_type": "markdown",
      "metadata": {
        "id": "VuNHUzPpwvGJ"
      },
      "source": [
        "**Conversion des vecteurs**\n",
        "\n",
        "Sans cette étape, l'algorithme ne se lance pas"
      ]
    },
    {
      "cell_type": "code",
      "metadata": {
        "id": "XnkqYphKNvND"
      },
      "source": [
        "#Cette fonction permet de rapporter notre sortie composée de 16 valeurs par prédiction (certitude par classe) sur une matrice colonne indiquant uniquement la classe retenue\n",
        "WB_Train_sortie_converted = np_utils.to_categorical(np.array(WB_Train_sortie), 16)\n",
        "WB_Train_entree_converted = np.array(WB_Train_entree)\n",
        "#Cette fonction permet de rapporter notre sortie composée de 16 valeurs par prédiction (certitude par classe) sur une matrice colonne indiquant uniquement la classe retenue\n",
        "R_Train_sortie_converted = np_utils.to_categorical(np.array(R_Train_sortie), 16)\n",
        "R_Train_entree_converted = np.array(R_Train_entree)"
      ],
      "execution_count": null,
      "outputs": []
    },
    {
      "cell_type": "markdown",
      "metadata": {
        "id": "W4nkB-oVw91y"
      },
      "source": [
        "**Mise en place du Grid Search**"
      ]
    },
    {
      "cell_type": "code",
      "metadata": {
        "id": "gnktWshy8Ftk",
        "colab": {
          "base_uri": "https://localhost:8080/"
        },
        "outputId": "9f7f0c4d-d3c5-417b-be9c-1a628582840c"
      },
      "source": [
        "#définition du modèle, les deux paramètres d'entrée de la fonction sont les variables du Grid Search\n",
        "def create_model(neurons1=1,neurons2=1):\n",
        "  model = Sequential()\n",
        "  model.add(Dense(6, input_dim=6, activation='elu', name='Entree'))\n",
        "  model.add(Dense(neurons1, activation='elu', name='Cachee1'))\n",
        "  model.add(Dense(neurons2, activation='elu', name='Cachee2'))\n",
        "  model.add(Dense(16, activation='softmax', name='Sortie'))\n",
        "  model.compile(loss='categorical_crossentropy', optimizer='adam', metrics=['accuracy'])\n",
        "  return model\n",
        "\n",
        "#fixation du seed de numpy.random pour obtenir des résultats reproductibles\n",
        "seed = 7\n",
        "numpy.random.seed(seed)\n",
        "\n",
        "#définition des vecteurs d'entrée, en fonction de si l'on souhaite travailler avec un Well Balanced ou Representative dataset\n",
        "\n",
        "#Well Balanced Train\n",
        "X = WB_Train_entree_converted\n",
        "Y = WB_Train_sortie_converted\n",
        "\n",
        "'''\n",
        "#Representative Train\n",
        "X = R_Train_entree_converted\n",
        "Y = R_Train_sortie_converted\n",
        "'''\n",
        "\n",
        "#génération du modèle\n",
        "model = KerasClassifier(build_fn=create_model, epochs=200, batch_size=2048)\n",
        "\n",
        "#définition des valeurs que va tester le grid search\n",
        "neurons1 = [18,24,30,36,42,48,54]\n",
        "neurons2 = [18,24,30,36,42,48,54]\n",
        "\n",
        "#définition du dictionnaire\n",
        "param_grid = dict(neurons1=neurons1,neurons2=neurons2)\n",
        "#initiation du grid search\n",
        "grid = GridSearchCV(estimator=model, param_grid=param_grid, n_jobs=-1, cv=3, verbose = 10)\n",
        "grid_result = grid.fit(X, Y)\n",
        "\n",
        "#affichage des résultats\n",
        "print(\"Best: %f using %s\" % (grid_result.best_score_, grid_result.best_params_))\n",
        "means = grid_result.cv_results_['mean_test_score']\n",
        "stds = grid_result.cv_results_['std_test_score']\n",
        "params = grid_result.cv_results_['params']\n",
        "for mean, stdev, param in zip(means, stds, params):\n",
        "    print(\"%f (%f) with: %r\" % (mean, stdev, param))\n"
      ],
      "execution_count": null,
      "outputs": [
        {
          "output_type": "stream",
          "text": [
            "Fitting 3 folds for each of 49 candidates, totalling 147 fits\n"
          ],
          "name": "stdout"
        },
        {
          "output_type": "stream",
          "text": [
            "[Parallel(n_jobs=-1)]: Using backend LokyBackend with 2 concurrent workers.\n",
            "[Parallel(n_jobs=-1)]: Done   1 tasks      | elapsed:  1.5min\n",
            "[Parallel(n_jobs=-1)]: Done   4 tasks      | elapsed:  2.9min\n",
            "[Parallel(n_jobs=-1)]: Done   9 tasks      | elapsed:  7.5min\n",
            "[Parallel(n_jobs=-1)]: Done  14 tasks      | elapsed: 11.2min\n",
            "[Parallel(n_jobs=-1)]: Done  21 tasks      | elapsed: 18.2min\n",
            "[Parallel(n_jobs=-1)]: Done  28 tasks      | elapsed: 22.9min\n",
            "[Parallel(n_jobs=-1)]: Done  37 tasks      | elapsed: 31.6min\n",
            "[Parallel(n_jobs=-1)]: Done  46 tasks      | elapsed: 39.5min\n",
            "[Parallel(n_jobs=-1)]: Done  57 tasks      | elapsed: 50.2min\n",
            "[Parallel(n_jobs=-1)]: Done  68 tasks      | elapsed: 60.5min\n",
            "[Parallel(n_jobs=-1)]: Done  81 tasks      | elapsed: 74.6min\n",
            "[Parallel(n_jobs=-1)]: Done  94 tasks      | elapsed: 87.2min\n",
            "[Parallel(n_jobs=-1)]: Done 109 tasks      | elapsed: 103.5min\n",
            "[Parallel(n_jobs=-1)]: Done 124 tasks      | elapsed: 119.1min\n",
            "[Parallel(n_jobs=-1)]: Done 141 tasks      | elapsed: 138.3min\n",
            "[Parallel(n_jobs=-1)]: Done 147 out of 147 | elapsed: 145.0min finished\n"
          ],
          "name": "stderr"
        },
        {
          "output_type": "stream",
          "text": [
            "Epoch 1/200\n",
            "118/118 [==============================] - 1s 6ms/step - loss: 2.0723 - accuracy: 0.3465\n",
            "Epoch 2/200\n",
            "118/118 [==============================] - 1s 6ms/step - loss: 1.1613 - accuracy: 0.6012\n",
            "Epoch 3/200\n",
            "118/118 [==============================] - 1s 6ms/step - loss: 0.8763 - accuracy: 0.6923\n",
            "Epoch 4/200\n",
            "118/118 [==============================] - 1s 6ms/step - loss: 0.7740 - accuracy: 0.7267\n",
            "Epoch 5/200\n",
            "118/118 [==============================] - 1s 6ms/step - loss: 0.7117 - accuracy: 0.7481\n",
            "Epoch 6/200\n",
            "118/118 [==============================] - 1s 6ms/step - loss: 0.6627 - accuracy: 0.7641\n",
            "Epoch 7/200\n",
            "118/118 [==============================] - 1s 6ms/step - loss: 0.6195 - accuracy: 0.7789\n",
            "Epoch 8/200\n",
            "118/118 [==============================] - 1s 6ms/step - loss: 0.5802 - accuracy: 0.7928\n",
            "Epoch 9/200\n",
            "118/118 [==============================] - 1s 6ms/step - loss: 0.5446 - accuracy: 0.8053\n",
            "Epoch 10/200\n",
            "118/118 [==============================] - 1s 6ms/step - loss: 0.5128 - accuracy: 0.8165\n",
            "Epoch 11/200\n",
            "118/118 [==============================] - 1s 6ms/step - loss: 0.4839 - accuracy: 0.8264\n",
            "Epoch 12/200\n",
            "118/118 [==============================] - 1s 6ms/step - loss: 0.4567 - accuracy: 0.8361\n",
            "Epoch 13/200\n",
            "118/118 [==============================] - 1s 6ms/step - loss: 0.4288 - accuracy: 0.8459\n",
            "Epoch 14/200\n",
            "118/118 [==============================] - 1s 6ms/step - loss: 0.3997 - accuracy: 0.8573\n",
            "Epoch 15/200\n",
            "118/118 [==============================] - 1s 6ms/step - loss: 0.3724 - accuracy: 0.8682\n",
            "Epoch 16/200\n",
            "118/118 [==============================] - 1s 6ms/step - loss: 0.3482 - accuracy: 0.8774\n",
            "Epoch 17/200\n",
            "118/118 [==============================] - 1s 6ms/step - loss: 0.3292 - accuracy: 0.8843\n",
            "Epoch 18/200\n",
            "118/118 [==============================] - 1s 6ms/step - loss: 0.3134 - accuracy: 0.8901\n",
            "Epoch 19/200\n",
            "118/118 [==============================] - 1s 6ms/step - loss: 0.3008 - accuracy: 0.8945\n",
            "Epoch 20/200\n",
            "118/118 [==============================] - 1s 6ms/step - loss: 0.2911 - accuracy: 0.8974\n",
            "Epoch 21/200\n",
            "118/118 [==============================] - 1s 6ms/step - loss: 0.2816 - accuracy: 0.9007\n",
            "Epoch 22/200\n",
            "118/118 [==============================] - 1s 6ms/step - loss: 0.2734 - accuracy: 0.9035\n",
            "Epoch 23/200\n",
            "118/118 [==============================] - 1s 6ms/step - loss: 0.2669 - accuracy: 0.9058\n",
            "Epoch 24/200\n",
            "118/118 [==============================] - 1s 6ms/step - loss: 0.2598 - accuracy: 0.9081\n",
            "Epoch 25/200\n",
            "118/118 [==============================] - 1s 6ms/step - loss: 0.2543 - accuracy: 0.9097\n",
            "Epoch 26/200\n",
            "118/118 [==============================] - 1s 6ms/step - loss: 0.2489 - accuracy: 0.9118\n",
            "Epoch 27/200\n",
            "118/118 [==============================] - 1s 6ms/step - loss: 0.2445 - accuracy: 0.9131\n",
            "Epoch 28/200\n",
            "118/118 [==============================] - 1s 6ms/step - loss: 0.2400 - accuracy: 0.9145\n",
            "Epoch 29/200\n",
            "118/118 [==============================] - 1s 6ms/step - loss: 0.2353 - accuracy: 0.9161\n",
            "Epoch 30/200\n",
            "118/118 [==============================] - 1s 6ms/step - loss: 0.2314 - accuracy: 0.9173\n",
            "Epoch 31/200\n",
            "118/118 [==============================] - 1s 6ms/step - loss: 0.2273 - accuracy: 0.9188\n",
            "Epoch 32/200\n",
            "118/118 [==============================] - 1s 6ms/step - loss: 0.2241 - accuracy: 0.9200\n",
            "Epoch 33/200\n",
            "118/118 [==============================] - 1s 6ms/step - loss: 0.2206 - accuracy: 0.9211\n",
            "Epoch 34/200\n",
            "118/118 [==============================] - 1s 6ms/step - loss: 0.2177 - accuracy: 0.9217\n",
            "Epoch 35/200\n",
            "118/118 [==============================] - 1s 6ms/step - loss: 0.2143 - accuracy: 0.9231\n",
            "Epoch 36/200\n",
            "118/118 [==============================] - 1s 6ms/step - loss: 0.2113 - accuracy: 0.9241\n",
            "Epoch 37/200\n",
            "118/118 [==============================] - 1s 6ms/step - loss: 0.2086 - accuracy: 0.9253\n",
            "Epoch 38/200\n",
            "118/118 [==============================] - 1s 6ms/step - loss: 0.2057 - accuracy: 0.9261\n",
            "Epoch 39/200\n",
            "118/118 [==============================] - 1s 6ms/step - loss: 0.2036 - accuracy: 0.9269\n",
            "Epoch 40/200\n",
            "118/118 [==============================] - 1s 6ms/step - loss: 0.2005 - accuracy: 0.9278\n",
            "Epoch 41/200\n",
            "118/118 [==============================] - 1s 6ms/step - loss: 0.1984 - accuracy: 0.9284\n",
            "Epoch 42/200\n",
            "118/118 [==============================] - 1s 6ms/step - loss: 0.1960 - accuracy: 0.9291\n",
            "Epoch 43/200\n",
            "118/118 [==============================] - 1s 7ms/step - loss: 0.1939 - accuracy: 0.9300\n",
            "Epoch 44/200\n",
            "118/118 [==============================] - 1s 6ms/step - loss: 0.1918 - accuracy: 0.9307\n",
            "Epoch 45/200\n",
            "118/118 [==============================] - 1s 6ms/step - loss: 0.1897 - accuracy: 0.9315\n",
            "Epoch 46/200\n",
            "118/118 [==============================] - 1s 6ms/step - loss: 0.1879 - accuracy: 0.9319\n",
            "Epoch 47/200\n",
            "118/118 [==============================] - 1s 6ms/step - loss: 0.1860 - accuracy: 0.9326\n",
            "Epoch 48/200\n",
            "118/118 [==============================] - 1s 6ms/step - loss: 0.1844 - accuracy: 0.9333\n",
            "Epoch 49/200\n",
            "118/118 [==============================] - 1s 6ms/step - loss: 0.1824 - accuracy: 0.9343\n",
            "Epoch 50/200\n",
            "118/118 [==============================] - 1s 6ms/step - loss: 0.1809 - accuracy: 0.9343\n",
            "Epoch 51/200\n",
            "118/118 [==============================] - 1s 6ms/step - loss: 0.1795 - accuracy: 0.9352\n",
            "Epoch 52/200\n",
            "118/118 [==============================] - 1s 6ms/step - loss: 0.1779 - accuracy: 0.9353\n",
            "Epoch 53/200\n",
            "118/118 [==============================] - 1s 6ms/step - loss: 0.1758 - accuracy: 0.9361\n",
            "Epoch 54/200\n",
            "118/118 [==============================] - 1s 6ms/step - loss: 0.1745 - accuracy: 0.9370\n",
            "Epoch 55/200\n",
            "118/118 [==============================] - 1s 6ms/step - loss: 0.1731 - accuracy: 0.9373\n",
            "Epoch 56/200\n",
            "118/118 [==============================] - 1s 6ms/step - loss: 0.1722 - accuracy: 0.9376\n",
            "Epoch 57/200\n",
            "118/118 [==============================] - 1s 6ms/step - loss: 0.1708 - accuracy: 0.9378\n",
            "Epoch 58/200\n",
            "118/118 [==============================] - 1s 6ms/step - loss: 0.1685 - accuracy: 0.9393\n",
            "Epoch 59/200\n",
            "118/118 [==============================] - 1s 6ms/step - loss: 0.1682 - accuracy: 0.9388\n",
            "Epoch 60/200\n",
            "118/118 [==============================] - 1s 6ms/step - loss: 0.1664 - accuracy: 0.9393\n",
            "Epoch 61/200\n",
            "118/118 [==============================] - 1s 6ms/step - loss: 0.1654 - accuracy: 0.9397\n",
            "Epoch 62/200\n",
            "118/118 [==============================] - 1s 6ms/step - loss: 0.1638 - accuracy: 0.9403\n",
            "Epoch 63/200\n",
            "118/118 [==============================] - 1s 6ms/step - loss: 0.1628 - accuracy: 0.9406\n",
            "Epoch 64/200\n",
            "118/118 [==============================] - 1s 6ms/step - loss: 0.1621 - accuracy: 0.9407\n",
            "Epoch 65/200\n",
            "118/118 [==============================] - 1s 6ms/step - loss: 0.1606 - accuracy: 0.9414\n",
            "Epoch 66/200\n",
            "118/118 [==============================] - 1s 6ms/step - loss: 0.1594 - accuracy: 0.9415\n",
            "Epoch 67/200\n",
            "118/118 [==============================] - 1s 6ms/step - loss: 0.1582 - accuracy: 0.9426\n",
            "Epoch 68/200\n",
            "118/118 [==============================] - 1s 6ms/step - loss: 0.1571 - accuracy: 0.9423\n",
            "Epoch 69/200\n",
            "118/118 [==============================] - 1s 6ms/step - loss: 0.1564 - accuracy: 0.9429\n",
            "Epoch 70/200\n",
            "118/118 [==============================] - 1s 6ms/step - loss: 0.1553 - accuracy: 0.9430\n",
            "Epoch 71/200\n",
            "118/118 [==============================] - 1s 6ms/step - loss: 0.1541 - accuracy: 0.9435\n",
            "Epoch 72/200\n",
            "118/118 [==============================] - 1s 6ms/step - loss: 0.1536 - accuracy: 0.9436\n",
            "Epoch 73/200\n",
            "118/118 [==============================] - 1s 6ms/step - loss: 0.1528 - accuracy: 0.9441\n",
            "Epoch 74/200\n",
            "118/118 [==============================] - 1s 6ms/step - loss: 0.1518 - accuracy: 0.9440\n",
            "Epoch 75/200\n",
            "118/118 [==============================] - 1s 6ms/step - loss: 0.1506 - accuracy: 0.9449\n",
            "Epoch 76/200\n",
            "118/118 [==============================] - 1s 6ms/step - loss: 0.1499 - accuracy: 0.9450\n",
            "Epoch 77/200\n",
            "118/118 [==============================] - 1s 6ms/step - loss: 0.1491 - accuracy: 0.9450\n",
            "Epoch 78/200\n",
            "118/118 [==============================] - 1s 6ms/step - loss: 0.1476 - accuracy: 0.9459\n",
            "Epoch 79/200\n",
            "118/118 [==============================] - 1s 6ms/step - loss: 0.1471 - accuracy: 0.9458\n",
            "Epoch 80/200\n",
            "118/118 [==============================] - 1s 6ms/step - loss: 0.1463 - accuracy: 0.9459\n",
            "Epoch 81/200\n",
            "118/118 [==============================] - 1s 6ms/step - loss: 0.1452 - accuracy: 0.9467\n",
            "Epoch 82/200\n",
            "118/118 [==============================] - 1s 6ms/step - loss: 0.1449 - accuracy: 0.9468\n",
            "Epoch 83/200\n",
            "118/118 [==============================] - 1s 6ms/step - loss: 0.1438 - accuracy: 0.9470\n",
            "Epoch 84/200\n",
            "118/118 [==============================] - 1s 6ms/step - loss: 0.1428 - accuracy: 0.9474\n",
            "Epoch 85/200\n",
            "118/118 [==============================] - 1s 6ms/step - loss: 0.1423 - accuracy: 0.9475\n",
            "Epoch 86/200\n",
            "118/118 [==============================] - 1s 6ms/step - loss: 0.1416 - accuracy: 0.9478\n",
            "Epoch 87/200\n",
            "118/118 [==============================] - 1s 6ms/step - loss: 0.1404 - accuracy: 0.9482\n",
            "Epoch 88/200\n",
            "118/118 [==============================] - 1s 6ms/step - loss: 0.1401 - accuracy: 0.9482\n",
            "Epoch 89/200\n",
            "118/118 [==============================] - 1s 6ms/step - loss: 0.1397 - accuracy: 0.9483\n",
            "Epoch 90/200\n",
            "118/118 [==============================] - 1s 6ms/step - loss: 0.1391 - accuracy: 0.9481\n",
            "Epoch 91/200\n",
            "118/118 [==============================] - 1s 6ms/step - loss: 0.1384 - accuracy: 0.9487\n",
            "Epoch 92/200\n",
            "118/118 [==============================] - 1s 6ms/step - loss: 0.1377 - accuracy: 0.9489\n",
            "Epoch 93/200\n",
            "118/118 [==============================] - 1s 6ms/step - loss: 0.1368 - accuracy: 0.9491\n",
            "Epoch 94/200\n",
            "118/118 [==============================] - 1s 6ms/step - loss: 0.1362 - accuracy: 0.9492\n",
            "Epoch 95/200\n",
            "118/118 [==============================] - 1s 6ms/step - loss: 0.1361 - accuracy: 0.9498\n",
            "Epoch 96/200\n",
            "118/118 [==============================] - 1s 6ms/step - loss: 0.1351 - accuracy: 0.9501\n",
            "Epoch 97/200\n",
            "118/118 [==============================] - 1s 6ms/step - loss: 0.1341 - accuracy: 0.9500\n",
            "Epoch 98/200\n",
            "118/118 [==============================] - 1s 6ms/step - loss: 0.1334 - accuracy: 0.9504\n",
            "Epoch 99/200\n",
            "118/118 [==============================] - 1s 6ms/step - loss: 0.1328 - accuracy: 0.9506\n",
            "Epoch 100/200\n",
            "118/118 [==============================] - 1s 6ms/step - loss: 0.1320 - accuracy: 0.9512\n",
            "Epoch 101/200\n",
            "118/118 [==============================] - 1s 6ms/step - loss: 0.1323 - accuracy: 0.9508\n",
            "Epoch 102/200\n",
            "118/118 [==============================] - 1s 6ms/step - loss: 0.1319 - accuracy: 0.9510\n",
            "Epoch 103/200\n",
            "118/118 [==============================] - 1s 6ms/step - loss: 0.1307 - accuracy: 0.9515\n",
            "Epoch 104/200\n",
            "118/118 [==============================] - 1s 6ms/step - loss: 0.1303 - accuracy: 0.9515\n",
            "Epoch 105/200\n",
            "118/118 [==============================] - 1s 6ms/step - loss: 0.1297 - accuracy: 0.9517\n",
            "Epoch 106/200\n",
            "118/118 [==============================] - 1s 6ms/step - loss: 0.1296 - accuracy: 0.9519\n",
            "Epoch 107/200\n",
            "118/118 [==============================] - 1s 6ms/step - loss: 0.1284 - accuracy: 0.9523\n",
            "Epoch 108/200\n",
            "118/118 [==============================] - 1s 6ms/step - loss: 0.1281 - accuracy: 0.9521\n",
            "Epoch 109/200\n",
            "118/118 [==============================] - 1s 6ms/step - loss: 0.1278 - accuracy: 0.9525\n",
            "Epoch 110/200\n",
            "118/118 [==============================] - 1s 6ms/step - loss: 0.1274 - accuracy: 0.9523\n",
            "Epoch 111/200\n",
            "118/118 [==============================] - 1s 6ms/step - loss: 0.1267 - accuracy: 0.9529\n",
            "Epoch 112/200\n",
            "118/118 [==============================] - 1s 6ms/step - loss: 0.1258 - accuracy: 0.9532\n",
            "Epoch 113/200\n",
            "118/118 [==============================] - 1s 6ms/step - loss: 0.1258 - accuracy: 0.9528\n",
            "Epoch 114/200\n",
            "118/118 [==============================] - 1s 6ms/step - loss: 0.1251 - accuracy: 0.9533\n",
            "Epoch 115/200\n",
            "118/118 [==============================] - 1s 7ms/step - loss: 0.1244 - accuracy: 0.9535\n",
            "Epoch 116/200\n",
            "118/118 [==============================] - 1s 7ms/step - loss: 0.1249 - accuracy: 0.9533\n",
            "Epoch 117/200\n",
            "118/118 [==============================] - 1s 6ms/step - loss: 0.1238 - accuracy: 0.9538\n",
            "Epoch 118/200\n",
            "118/118 [==============================] - 1s 6ms/step - loss: 0.1236 - accuracy: 0.9536\n",
            "Epoch 119/200\n",
            "118/118 [==============================] - 1s 7ms/step - loss: 0.1232 - accuracy: 0.9540\n",
            "Epoch 120/200\n",
            "118/118 [==============================] - 1s 6ms/step - loss: 0.1229 - accuracy: 0.9540\n",
            "Epoch 121/200\n",
            "118/118 [==============================] - 1s 6ms/step - loss: 0.1221 - accuracy: 0.9543\n",
            "Epoch 122/200\n",
            "118/118 [==============================] - 1s 6ms/step - loss: 0.1215 - accuracy: 0.9546\n",
            "Epoch 123/200\n",
            "118/118 [==============================] - 1s 6ms/step - loss: 0.1212 - accuracy: 0.9548\n",
            "Epoch 124/200\n",
            "118/118 [==============================] - 1s 6ms/step - loss: 0.1210 - accuracy: 0.9546\n",
            "Epoch 125/200\n",
            "118/118 [==============================] - 1s 6ms/step - loss: 0.1203 - accuracy: 0.9550\n",
            "Epoch 126/200\n",
            "118/118 [==============================] - 1s 6ms/step - loss: 0.1200 - accuracy: 0.9553\n",
            "Epoch 127/200\n",
            "118/118 [==============================] - 1s 6ms/step - loss: 0.1197 - accuracy: 0.9549\n",
            "Epoch 128/200\n",
            "118/118 [==============================] - 1s 6ms/step - loss: 0.1191 - accuracy: 0.9553\n",
            "Epoch 129/200\n",
            "118/118 [==============================] - 1s 6ms/step - loss: 0.1192 - accuracy: 0.9554\n",
            "Epoch 130/200\n",
            "118/118 [==============================] - 1s 6ms/step - loss: 0.1186 - accuracy: 0.9552\n",
            "Epoch 131/200\n",
            "118/118 [==============================] - 1s 6ms/step - loss: 0.1189 - accuracy: 0.9554\n",
            "Epoch 132/200\n",
            "118/118 [==============================] - 1s 6ms/step - loss: 0.1179 - accuracy: 0.9557\n",
            "Epoch 133/200\n",
            "118/118 [==============================] - 1s 6ms/step - loss: 0.1171 - accuracy: 0.9559\n",
            "Epoch 134/200\n",
            "118/118 [==============================] - 1s 6ms/step - loss: 0.1170 - accuracy: 0.9561\n",
            "Epoch 135/200\n",
            "118/118 [==============================] - 1s 6ms/step - loss: 0.1175 - accuracy: 0.9556\n",
            "Epoch 136/200\n",
            "118/118 [==============================] - 1s 6ms/step - loss: 0.1164 - accuracy: 0.9560\n",
            "Epoch 137/200\n",
            "118/118 [==============================] - 1s 6ms/step - loss: 0.1160 - accuracy: 0.9564\n",
            "Epoch 138/200\n",
            "118/118 [==============================] - 1s 6ms/step - loss: 0.1160 - accuracy: 0.9562\n",
            "Epoch 139/200\n",
            "118/118 [==============================] - 1s 6ms/step - loss: 0.1151 - accuracy: 0.9567\n",
            "Epoch 140/200\n",
            "118/118 [==============================] - 1s 6ms/step - loss: 0.1147 - accuracy: 0.9570\n",
            "Epoch 141/200\n",
            "118/118 [==============================] - 1s 6ms/step - loss: 0.1146 - accuracy: 0.9569\n",
            "Epoch 142/200\n",
            "118/118 [==============================] - 1s 6ms/step - loss: 0.1143 - accuracy: 0.9570\n",
            "Epoch 143/200\n",
            "118/118 [==============================] - 1s 6ms/step - loss: 0.1145 - accuracy: 0.9566\n",
            "Epoch 144/200\n",
            "118/118 [==============================] - 1s 6ms/step - loss: 0.1140 - accuracy: 0.9568\n",
            "Epoch 145/200\n",
            "118/118 [==============================] - 1s 6ms/step - loss: 0.1139 - accuracy: 0.9572\n",
            "Epoch 146/200\n",
            "118/118 [==============================] - 1s 6ms/step - loss: 0.1130 - accuracy: 0.9572\n",
            "Epoch 147/200\n",
            "118/118 [==============================] - 1s 6ms/step - loss: 0.1130 - accuracy: 0.9573\n",
            "Epoch 148/200\n",
            "118/118 [==============================] - 1s 6ms/step - loss: 0.1124 - accuracy: 0.9576\n",
            "Epoch 149/200\n",
            "118/118 [==============================] - 1s 6ms/step - loss: 0.1124 - accuracy: 0.9575\n",
            "Epoch 150/200\n",
            "118/118 [==============================] - 1s 6ms/step - loss: 0.1124 - accuracy: 0.9575\n",
            "Epoch 151/200\n",
            "118/118 [==============================] - 1s 6ms/step - loss: 0.1119 - accuracy: 0.9579\n",
            "Epoch 152/200\n",
            "118/118 [==============================] - 1s 6ms/step - loss: 0.1118 - accuracy: 0.9577\n",
            "Epoch 153/200\n",
            "118/118 [==============================] - 1s 6ms/step - loss: 0.1112 - accuracy: 0.9578\n",
            "Epoch 154/200\n",
            "118/118 [==============================] - 1s 6ms/step - loss: 0.1111 - accuracy: 0.9579\n",
            "Epoch 155/200\n",
            "118/118 [==============================] - 1s 7ms/step - loss: 0.1106 - accuracy: 0.9582\n",
            "Epoch 156/200\n",
            "118/118 [==============================] - 1s 6ms/step - loss: 0.1104 - accuracy: 0.9584\n",
            "Epoch 157/200\n",
            "118/118 [==============================] - 1s 6ms/step - loss: 0.1099 - accuracy: 0.9586\n",
            "Epoch 158/200\n",
            "118/118 [==============================] - 1s 6ms/step - loss: 0.1099 - accuracy: 0.9584\n",
            "Epoch 159/200\n",
            "118/118 [==============================] - 1s 6ms/step - loss: 0.1094 - accuracy: 0.9588\n",
            "Epoch 160/200\n",
            "118/118 [==============================] - 1s 6ms/step - loss: 0.1087 - accuracy: 0.9592\n",
            "Epoch 161/200\n",
            "118/118 [==============================] - 1s 6ms/step - loss: 0.1090 - accuracy: 0.9591\n",
            "Epoch 162/200\n",
            "118/118 [==============================] - 1s 6ms/step - loss: 0.1085 - accuracy: 0.9592\n",
            "Epoch 163/200\n",
            "118/118 [==============================] - 1s 6ms/step - loss: 0.1083 - accuracy: 0.9588\n",
            "Epoch 164/200\n",
            "118/118 [==============================] - 1s 6ms/step - loss: 0.1081 - accuracy: 0.9590\n",
            "Epoch 165/200\n",
            "118/118 [==============================] - 1s 6ms/step - loss: 0.1082 - accuracy: 0.9591\n",
            "Epoch 166/200\n",
            "118/118 [==============================] - 1s 6ms/step - loss: 0.1069 - accuracy: 0.9599\n",
            "Epoch 167/200\n",
            "118/118 [==============================] - 1s 6ms/step - loss: 0.1079 - accuracy: 0.9594\n",
            "Epoch 168/200\n",
            "118/118 [==============================] - 1s 6ms/step - loss: 0.1072 - accuracy: 0.9595\n",
            "Epoch 169/200\n",
            "118/118 [==============================] - 1s 6ms/step - loss: 0.1069 - accuracy: 0.9597\n",
            "Epoch 170/200\n",
            "118/118 [==============================] - 1s 6ms/step - loss: 0.1062 - accuracy: 0.9598\n",
            "Epoch 171/200\n",
            "118/118 [==============================] - 1s 6ms/step - loss: 0.1063 - accuracy: 0.9597\n",
            "Epoch 172/200\n",
            "118/118 [==============================] - 1s 6ms/step - loss: 0.1059 - accuracy: 0.9598\n",
            "Epoch 173/200\n",
            "118/118 [==============================] - 1s 6ms/step - loss: 0.1062 - accuracy: 0.9598\n",
            "Epoch 174/200\n",
            "118/118 [==============================] - 1s 6ms/step - loss: 0.1059 - accuracy: 0.9598\n",
            "Epoch 175/200\n",
            "118/118 [==============================] - 1s 6ms/step - loss: 0.1055 - accuracy: 0.9599\n",
            "Epoch 176/200\n",
            "118/118 [==============================] - 1s 6ms/step - loss: 0.1049 - accuracy: 0.9604\n",
            "Epoch 177/200\n",
            "118/118 [==============================] - 1s 6ms/step - loss: 0.1054 - accuracy: 0.9601\n",
            "Epoch 178/200\n",
            "118/118 [==============================] - 1s 6ms/step - loss: 0.1054 - accuracy: 0.9600\n",
            "Epoch 179/200\n",
            "118/118 [==============================] - 1s 6ms/step - loss: 0.1049 - accuracy: 0.9599\n",
            "Epoch 180/200\n",
            "118/118 [==============================] - 1s 6ms/step - loss: 0.1045 - accuracy: 0.9603\n",
            "Epoch 181/200\n",
            "118/118 [==============================] - 1s 6ms/step - loss: 0.1042 - accuracy: 0.9604\n",
            "Epoch 182/200\n",
            "118/118 [==============================] - 1s 6ms/step - loss: 0.1039 - accuracy: 0.9606\n",
            "Epoch 183/200\n",
            "118/118 [==============================] - 1s 6ms/step - loss: 0.1039 - accuracy: 0.9605\n",
            "Epoch 184/200\n",
            "118/118 [==============================] - 1s 6ms/step - loss: 0.1030 - accuracy: 0.9610\n",
            "Epoch 185/200\n",
            "118/118 [==============================] - 1s 6ms/step - loss: 0.1028 - accuracy: 0.9612\n",
            "Epoch 186/200\n",
            "118/118 [==============================] - 1s 6ms/step - loss: 0.1033 - accuracy: 0.9608\n",
            "Epoch 187/200\n",
            "118/118 [==============================] - 1s 6ms/step - loss: 0.1028 - accuracy: 0.9607\n",
            "Epoch 188/200\n",
            "118/118 [==============================] - 1s 6ms/step - loss: 0.1027 - accuracy: 0.9609\n",
            "Epoch 189/200\n",
            "118/118 [==============================] - 1s 6ms/step - loss: 0.1023 - accuracy: 0.9610\n",
            "Epoch 190/200\n",
            "118/118 [==============================] - 1s 6ms/step - loss: 0.1017 - accuracy: 0.9613\n",
            "Epoch 191/200\n",
            "118/118 [==============================] - 1s 6ms/step - loss: 0.1017 - accuracy: 0.9616\n",
            "Epoch 192/200\n",
            "118/118 [==============================] - 1s 6ms/step - loss: 0.1018 - accuracy: 0.9615\n",
            "Epoch 193/200\n",
            "118/118 [==============================] - 1s 6ms/step - loss: 0.1016 - accuracy: 0.9616\n",
            "Epoch 194/200\n",
            "118/118 [==============================] - 1s 6ms/step - loss: 0.1011 - accuracy: 0.9619\n",
            "Epoch 195/200\n",
            "118/118 [==============================] - 1s 6ms/step - loss: 0.1010 - accuracy: 0.9618\n",
            "Epoch 196/200\n",
            "118/118 [==============================] - 1s 6ms/step - loss: 0.1008 - accuracy: 0.9619\n",
            "Epoch 197/200\n",
            "118/118 [==============================] - 1s 6ms/step - loss: 0.1008 - accuracy: 0.9616\n",
            "Epoch 198/200\n",
            "118/118 [==============================] - 1s 7ms/step - loss: 0.1007 - accuracy: 0.9618\n",
            "Epoch 199/200\n",
            "118/118 [==============================] - 1s 6ms/step - loss: 0.1011 - accuracy: 0.9616\n",
            "Epoch 200/200\n",
            "118/118 [==============================] - 1s 6ms/step - loss: 0.1002 - accuracy: 0.9620\n",
            "Best: 0.939896 using {'neurons1': 54, 'neurons2': 54}\n",
            "0.886842 (0.014084) with: {'neurons1': 18, 'neurons2': 18}\n",
            "0.899529 (0.016230) with: {'neurons1': 18, 'neurons2': 24}\n",
            "0.903229 (0.019298) with: {'neurons1': 18, 'neurons2': 30}\n",
            "0.911850 (0.012631) with: {'neurons1': 18, 'neurons2': 36}\n",
            "0.916433 (0.009948) with: {'neurons1': 18, 'neurons2': 42}\n",
            "0.915917 (0.013851) with: {'neurons1': 18, 'neurons2': 48}\n",
            "0.923658 (0.015347) with: {'neurons1': 18, 'neurons2': 54}\n",
            "0.895446 (0.019439) with: {'neurons1': 24, 'neurons2': 18}\n",
            "0.909367 (0.014058) with: {'neurons1': 24, 'neurons2': 24}\n",
            "0.916933 (0.012782) with: {'neurons1': 24, 'neurons2': 30}\n",
            "0.909787 (0.015957) with: {'neurons1': 24, 'neurons2': 36}\n",
            "0.922258 (0.011428) with: {'neurons1': 24, 'neurons2': 42}\n",
            "0.918346 (0.014379) with: {'neurons1': 24, 'neurons2': 48}\n",
            "0.927550 (0.011883) with: {'neurons1': 24, 'neurons2': 54}\n",
            "0.906842 (0.011022) with: {'neurons1': 30, 'neurons2': 18}\n",
            "0.911846 (0.014578) with: {'neurons1': 30, 'neurons2': 24}\n",
            "0.915425 (0.014324) with: {'neurons1': 30, 'neurons2': 30}\n",
            "0.922025 (0.009455) with: {'neurons1': 30, 'neurons2': 36}\n",
            "0.918163 (0.008573) with: {'neurons1': 30, 'neurons2': 42}\n",
            "0.926887 (0.011836) with: {'neurons1': 30, 'neurons2': 48}\n",
            "0.926008 (0.011286) with: {'neurons1': 30, 'neurons2': 54}\n",
            "0.907146 (0.009083) with: {'neurons1': 36, 'neurons2': 18}\n",
            "0.917329 (0.009923) with: {'neurons1': 36, 'neurons2': 24}\n",
            "0.914725 (0.014580) with: {'neurons1': 36, 'neurons2': 30}\n",
            "0.923946 (0.009369) with: {'neurons1': 36, 'neurons2': 36}\n",
            "0.927671 (0.008669) with: {'neurons1': 36, 'neurons2': 42}\n",
            "0.930683 (0.013446) with: {'neurons1': 36, 'neurons2': 48}\n",
            "0.932367 (0.013165) with: {'neurons1': 36, 'neurons2': 54}\n",
            "0.910521 (0.014006) with: {'neurons1': 42, 'neurons2': 18}\n",
            "0.920471 (0.009910) with: {'neurons1': 42, 'neurons2': 24}\n",
            "0.921312 (0.012062) with: {'neurons1': 42, 'neurons2': 30}\n",
            "0.927437 (0.011130) with: {'neurons1': 42, 'neurons2': 36}\n",
            "0.933250 (0.013361) with: {'neurons1': 42, 'neurons2': 42}\n",
            "0.933662 (0.010247) with: {'neurons1': 42, 'neurons2': 48}\n",
            "0.935467 (0.007726) with: {'neurons1': 42, 'neurons2': 54}\n",
            "0.909163 (0.020481) with: {'neurons1': 48, 'neurons2': 18}\n",
            "0.918537 (0.012552) with: {'neurons1': 48, 'neurons2': 24}\n",
            "0.928062 (0.010478) with: {'neurons1': 48, 'neurons2': 30}\n",
            "0.927325 (0.012370) with: {'neurons1': 48, 'neurons2': 36}\n",
            "0.933963 (0.009330) with: {'neurons1': 48, 'neurons2': 42}\n",
            "0.935883 (0.016079) with: {'neurons1': 48, 'neurons2': 48}\n",
            "0.936842 (0.013970) with: {'neurons1': 48, 'neurons2': 54}\n",
            "0.907575 (0.017809) with: {'neurons1': 54, 'neurons2': 18}\n",
            "0.924967 (0.012895) with: {'neurons1': 54, 'neurons2': 24}\n",
            "0.926488 (0.011547) with: {'neurons1': 54, 'neurons2': 30}\n",
            "0.930754 (0.011181) with: {'neurons1': 54, 'neurons2': 36}\n",
            "0.933721 (0.010215) with: {'neurons1': 54, 'neurons2': 42}\n",
            "0.930579 (0.011477) with: {'neurons1': 54, 'neurons2': 48}\n",
            "0.939896 (0.010515) with: {'neurons1': 54, 'neurons2': 54}\n"
          ],
          "name": "stdout"
        }
      ]
    },
    {
      "cell_type": "markdown",
      "metadata": {
        "id": "HXkq2MZV16OH"
      },
      "source": [
        "**Exploitation des résultats**"
      ]
    },
    {
      "cell_type": "code",
      "metadata": {
        "id": "WQv3QUkzxjby",
        "colab": {
          "base_uri": "https://localhost:8080/"
        },
        "outputId": "622621e8-3b28-48aa-cbe4-48de35b3cdba"
      },
      "source": [
        "import pandas\n",
        "\n",
        "df = pandas.DataFrame(grid.cv_results_)\n",
        "\n",
        "df[\"neurons1\"] = df.params.apply(lambda x: x[\"neurons1\"])\n",
        "df[\"neurons2\"] = df.params.apply(lambda x: x[\"neurons2\"])\n",
        "\n",
        "df=df.sort_values(by=['neurons2'])\n",
        "\n",
        "print(df)\n",
        "\n",
        "res = [df.columns.values.tolist()] + df.values.tolist()\n",
        "print(res)\n",
        "\n",
        "res.pop(0)\n",
        "print(res)\n"
      ],
      "execution_count": null,
      "outputs": [
        {
          "output_type": "stream",
          "text": [
            "    mean_fit_time  std_fit_time  ...  neurons1  neurons2\n",
            "0       84.809338      0.926801  ...        18        18\n",
            "21      97.887113      0.936402  ...        36        18\n",
            "28     101.528758      0.208443  ...        42        18\n",
            "42     114.170599      0.559994  ...        54        18\n",
            "7       84.887053      0.516481  ...        24        18\n",
            "35     102.213941      0.332413  ...        48        18\n",
            "14      95.956344      1.047448  ...        30        18\n",
            "1       86.496177      0.897199  ...        18        24\n",
            "29     112.046793      0.723004  ...        42        24\n",
            "43     119.922116      0.706156  ...        54        24\n",
            "8       86.693134      0.508099  ...        24        24\n",
            "22      99.462571      2.926552  ...        36        24\n",
            "36     110.594730      0.752635  ...        48        24\n",
            "15      97.734381      0.627559  ...        30        24\n",
            "30     123.416567      0.654718  ...        42        30\n",
            "16     105.865011      0.606893  ...        30        30\n",
            "37     120.152679      0.242772  ...        48        30\n",
            "9       96.650469      0.458461  ...        24        30\n",
            "44     130.450312      0.755793  ...        54        30\n",
            "2       95.630124      0.604228  ...        18        30\n",
            "23     117.733437      0.240268  ...        36        30\n",
            "31     129.661673      0.360742  ...        42        36\n",
            "45     139.553957      0.953390  ...        54        36\n",
            "38     130.067444      0.255481  ...        48        36\n",
            "24     124.622459      2.174732  ...        36        36\n",
            "3      102.827967      1.512814  ...        18        36\n",
            "17     120.561838      2.077374  ...        30        36\n",
            "10     104.857715      1.772509  ...        24        36\n",
            "25     128.922260      0.653763  ...        36        42\n",
            "46     144.840212      0.703469  ...        54        42\n",
            "4      105.513162      0.457065  ...        18        42\n",
            "18     125.769304      0.367732  ...        30        42\n",
            "32     134.327588      1.082909  ...        42        42\n",
            "39     133.388695      0.988950  ...        48        42\n",
            "11     116.385475      1.052465  ...        24        42\n",
            "5      107.368238      0.678735  ...        18        48\n",
            "40     134.852884      0.522870  ...        48        48\n",
            "12     117.360957      1.216308  ...        24        48\n",
            "33     135.537066      0.479407  ...        42        48\n",
            "19     127.858483      0.412224  ...        30        48\n",
            "26     129.721768      0.694192  ...        36        48\n",
            "47     147.218560      1.080695  ...        54        48\n",
            "13     121.349067      0.838954  ...        24        54\n",
            "34     142.127988      0.407089  ...        42        54\n",
            "41     143.167497      0.253085  ...        48        54\n",
            "6      116.761803      1.143206  ...        18        54\n",
            "20     134.362570      0.793845  ...        30        54\n",
            "27     137.037109      0.651074  ...        36        54\n",
            "48     135.613087     22.539692  ...        54        54\n",
            "\n",
            "[49 rows x 15 columns]\n",
            "[['mean_fit_time', 'std_fit_time', 'mean_score_time', 'std_score_time', 'param_neurons1', 'param_neurons2', 'params', 'split0_test_score', 'split1_test_score', 'split2_test_score', 'mean_test_score', 'std_test_score', 'rank_test_score', 'neurons1', 'neurons2'], [84.80933793385823, 0.9268009524014286, 0.46041711171468097, 0.0685670650148812, 18, 18, {'neurons1': 18, 'neurons2': 18}, 0.8688499927520752, 0.903237521648407, 0.8884375095367432, 0.8868416746457418, 0.014083928255249348, 49, 18, 18], [97.88711293538411, 0.9364018203079421, 0.41953174273173016, 0.00787237903132617, 36, 18, {'neurons1': 36, 'neurons2': 18}, 0.8945249915122986, 0.9155250191688538, 0.9113875031471252, 0.9071458379427592, 0.009082733919309678, 44, 36, 18], [101.5287578900655, 0.208443483977196, 0.6900215943654379, 0.32802987376536, 42, 18, {'neurons1': 42, 'neurons2': 18}, 0.900950014591217, 0.9303249716758728, 0.9002875089645386, 0.9105208317438761, 0.014006253300125716, 39, 42, 18], [114.17059898376465, 0.5599940164517125, 0.4710724353790283, 0.01683048165409583, 54, 18, {'neurons1': 54, 'neurons2': 18}, 0.9021875262260437, 0.9315750002861023, 0.8889625072479248, 0.9075750112533569, 0.017808703619706562, 43, 54, 18], [84.88705277442932, 0.5164806559619401, 0.38016994794209796, 0.009855080142639867, 24, 18, {'neurons1': 24, 'neurons2': 18}, 0.8694375157356262, 0.9161624908447266, 0.9007375240325928, 0.8954458435376486, 0.019438916920822204, 48, 24, 18], [102.21394141515096, 0.3324134457896843, 0.4342806339263916, 0.05032750519373788, 48, 18, {'neurons1': 48, 'neurons2': 18}, 0.8888124823570251, 0.9371874928474426, 0.9014875292778015, 0.9091625014940897, 0.020481118278023746, 42, 48, 18], [95.95634428660075, 1.0474478952361372, 0.4555792013804118, 0.034057866677741334, 30, 18, {'neurons1': 30, 'neurons2': 18}, 0.8927249908447266, 0.9196249842643738, 0.908174991607666, 0.9068416555722555, 0.011022272912358235, 45, 30, 18], [86.49617671966553, 0.8971991692740079, 0.47020626068115234, 0.06776271314257414, 18, 24, {'neurons1': 18, 'neurons2': 24}, 0.8798499703407288, 0.9196000099182129, 0.8991374969482422, 0.8995291590690613, 0.01623024873532036, 47, 18, 24], [112.04679258664449, 0.7230043775967904, 0.5611326694488525, 0.12963708989834316, 42, 24, {'neurons1': 42, 'neurons2': 24}, 0.9114750027656555, 0.9342749714851379, 0.9156625270843506, 0.9204708337783813, 0.0099095746074269, 27, 42, 24], [119.92211580276489, 0.7061559158013838, 0.458618958791097, 0.048438648960806706, 54, 24, {'neurons1': 54, 'neurons2': 24}, 0.908637523651123, 0.9401624798774719, 0.9261000156402588, 0.9249666730562845, 0.012894936094653338, 21, 54, 24], [86.69313367207845, 0.5080988112626958, 0.40586034456888836, 0.018012854095646545, 24, 24, {'neurons1': 24, 'neurons2': 24}, 0.8947874903678894, 0.9283624887466431, 0.9049500226974487, 0.9093666672706604, 0.0140582168380367, 41, 24, 24], [99.46257122357686, 2.926551834697786, 0.512117862701416, 0.08702473225453515, 36, 24, {'neurons1': 36, 'neurons2': 24}, 0.9033374786376953, 0.9233875274658203, 0.9252625107765198, 0.9173291722933451, 0.009923188638034113, 31, 36, 24], [110.59473013877869, 0.7526349148386079, 0.43962717056274414, 0.02414103837320206, 48, 24, {'neurons1': 48, 'neurons2': 24}, 0.9048374891281128, 0.9351624846458435, 0.915612518787384, 0.9185374975204468, 0.012551705428061664, 28, 48, 24], [97.73438080151875, 0.6275591459271846, 0.42432204882303876, 0.02823589680175124, 30, 24, {'neurons1': 30, 'neurons2': 24}, 0.891700029373169, 0.925712525844574, 0.9181249737739563, 0.911845842997233, 0.014578136404395215, 38, 30, 24], [123.41656748453777, 0.6547184708737975, 0.47639091809590656, 0.04484167407548286, 42, 30, {'neurons1': 42, 'neurons2': 30}, 0.9057999849319458, 0.9352124929428101, 0.9229249954223633, 0.9213124910990397, 0.012061620524535428, 26, 42, 30], [105.86501089731853, 0.60689283271666, 0.40594832102457684, 0.016314697466747626, 30, 30, {'neurons1': 30, 'neurons2': 30}, 0.8981375098228455, 0.9332125186920166, 0.9149249792098999, 0.9154250025749207, 0.01432367688636042, 35, 30, 30], [120.15267856915791, 0.242771580672051, 0.4149937629699707, 0.004790142178697702, 48, 30, {'neurons1': 48, 'neurons2': 30}, 0.915737509727478, 0.941349983215332, 0.9271000027656555, 0.9280624985694885, 0.010478374497691366, 13, 48, 30], [96.65046858787537, 0.4584610162610013, 0.410001277923584, 0.016432347604086243, 24, 30, {'neurons1': 24, 'neurons2': 30}, 0.9010624885559082, 0.9323624968528748, 0.9173750281333923, 0.9169333378473917, 0.012781991174541997, 32, 24, 30], [130.4503115018209, 0.7557925759258063, 0.42200907071431476, 0.0053971773189853255, 54, 30, {'neurons1': 54, 'neurons2': 30}, 0.9109125137329102, 0.9385250210762024, 0.9300249814987183, 0.9264875054359436, 0.0115469460065384, 19, 54, 30], [95.63012393315633, 0.6042279893325496, 0.3971569538116455, 0.015458037811802824, 18, 30, {'neurons1': 18, 'neurons2': 30}, 0.8762750029563904, 0.9204124808311462, 0.9129999876022339, 0.9032291571299235, 0.01929820517345439, 46, 18, 30], [117.73343737920125, 0.2402678423806709, 0.459994633992513, 0.03311513734952403, 36, 30, {'neurons1': 36, 'neurons2': 30}, 0.9073500037193298, 0.9350875020027161, 0.9017375111579895, 0.9147250056266785, 0.014579631046677949, 36, 36, 30], [129.6616727511088, 0.36074202053104404, 0.48572532335917157, 0.03877707559147235, 42, 36, {'neurons1': 42, 'neurons2': 36}, 0.9124749898910522, 0.9391499757766724, 0.9306874871253967, 0.9274374842643738, 0.011129857948988721, 16, 42, 36], [139.55395682652792, 0.9533902988468825, 0.46463243166605633, 0.02480176308815631, 54, 36, {'neurons1': 54, 'neurons2': 36}, 0.9187374711036682, 0.9456624984741211, 0.9278625249862671, 0.9307541648546854, 0.011180651757131729, 10, 54, 36], [130.06744400660196, 0.25548138988048785, 0.4877353509267171, 0.01284434765716346, 48, 36, {'neurons1': 48, 'neurons2': 36}, 0.9121249914169312, 0.942425012588501, 0.9274250268936157, 0.9273250102996826, 0.012370134012712268, 17, 48, 36], [124.62245885531108, 2.174731748605418, 0.5466947555541992, 0.09515700348750784, 36, 36, {'neurons1': 36, 'neurons2': 36}, 0.9160749912261963, 0.9371125102043152, 0.9186499714851379, 0.9239458243052164, 0.00936941278870163, 22, 36, 36], [102.82796661059062, 1.5128139023615268, 0.4173063437143962, 0.009266780468480437, 18, 36, {'neurons1': 18, 'neurons2': 36}, 0.8961125016212463, 0.9270374774932861, 0.9124000072479248, 0.9118499954541525, 0.012631057435319958, 37, 18, 36], [120.56183767318726, 2.0773744629709827, 0.5182241598765055, 0.07531734554080369, 30, 36, {'neurons1': 30, 'neurons2': 36}, 0.9110124707221985, 0.9340999722480774, 0.9209625124931335, 0.9220249851544698, 0.00945532716846013, 25, 30, 36], [104.85771497090657, 1.7725086159721655, 0.47398797671000165, 0.04782029176000712, 24, 36, {'neurons1': 24, 'neurons2': 36}, 0.8943125009536743, 0.9317499995231628, 0.9032999873161316, 0.9097874959309896, 0.01595738910987647, 40, 24, 36], [128.92226012547812, 0.6537632688372467, 0.48157350222269696, 0.06746868602713074, 36, 42, {'neurons1': 36, 'neurons2': 42}, 0.9166250228881836, 0.9377999901771545, 0.9285874962806702, 0.9276708364486694, 0.008668910306682154, 14, 36, 42], [144.84021226565042, 0.7034685817103694, 0.5167108376820883, 0.025704873543033562, 54, 42, {'neurons1': 54, 'neurons2': 42}, 0.9215250015258789, 0.946524977684021, 0.9331125020980835, 0.9337208271026611, 0.010215258079961041, 6, 54, 42], [105.51316173871358, 0.45706493738122594, 0.41242361068725586, 0.012052830296632943, 18, 42, {'neurons1': 18, 'neurons2': 42}, 0.9053624868392944, 0.9294875264167786, 0.9144499897956848, 0.9164333343505859, 0.009948354147676417, 33, 18, 42], [125.76930443445842, 0.36773211024330027, 0.45211974779764813, 0.028943356663023993, 30, 42, {'neurons1': 30, 'neurons2': 42}, 0.909850001335144, 0.9299625158309937, 0.9146749973297119, 0.9181625048319498, 0.008573227368580426, 30, 30, 42], [134.32758816083273, 1.0829091087916085, 0.47599991162618, 0.053336460351904175, 42, 42, {'neurons1': 42, 'neurons2': 42}, 0.9144124984741211, 0.9439499974250793, 0.9413874745368958, 0.9332499901453654, 0.013361136434606779, 8, 42, 42], [133.38869508107504, 0.9889498927873303, 0.49105040232340497, 0.08047074681872321, 48, 42, {'neurons1': 48, 'neurons2': 42}, 0.9226750135421753, 0.9455249905586243, 0.9336875081062317, 0.9339625040690104, 0.00933049050149455, 5, 48, 42], [116.38547499974568, 1.0524652691578513, 0.5916101137797037, 0.04107812182618705, 24, 42, {'neurons1': 24, 'neurons2': 42}, 0.90625, 0.9321874976158142, 0.9283375144004822, 0.9222583373387655, 0.011428203152825294, 24, 24, 42], [107.36823836962382, 0.6787351633212503, 0.43928178151448566, 0.007970403149125456, 18, 48, {'neurons1': 18, 'neurons2': 48}, 0.897225022315979, 0.9303374886512756, 0.9201874732971191, 0.9159166614214579, 0.013851323216201038, 34, 18, 48], [134.85288381576538, 0.5228698913579258, 0.46756688753763836, 0.015489804344939432, 48, 48, {'neurons1': 48, 'neurons2': 48}, 0.9131500124931335, 0.9467999935150146, 0.947700023651123, 0.9358833432197571, 0.016079091143594116, 3, 48, 48], [117.36095682779948, 1.21630826392976, 0.531883160273234, 0.017093772307069603, 24, 48, {'neurons1': 24, 'neurons2': 48}, 0.9004999995231628, 0.9357125163078308, 0.9188249707221985, 0.9183458288510641, 0.014379441743385742, 29, 24, 48], [135.5370663801829, 0.4794069478586116, 0.4593193531036377, 0.029053094662208494, 42, 48, {'neurons1': 42, 'neurons2': 48}, 0.9211249947547913, 0.9462249875068665, 0.9336374998092651, 0.933662494023641, 0.010247044372943872, 7, 42, 48], [127.85848347345988, 0.41222376394111115, 0.4513255755106608, 0.0665588075113492, 30, 48, {'neurons1': 30, 'neurons2': 48}, 0.913100004196167, 0.9419999718666077, 0.9255625009536743, 0.9268874923388163, 0.011835504058162019, 18, 30, 48], [129.7217684586843, 0.6941918360259578, 0.5102603435516357, 0.028484187660256656, 36, 48, {'neurons1': 36, 'neurons2': 48}, 0.9144625067710876, 0.9473875164985657, 0.9301999807357788, 0.9306833346684774, 0.013445923537311028, 11, 36, 48], [147.2185595035553, 1.0806953772442, 0.5335951646169027, 0.04192055570634386, 54, 48, {'neurons1': 54, 'neurons2': 48}, 0.9205750226974487, 0.9466500282287598, 0.924512505531311, 0.9305791854858398, 0.011476931431280939, 12, 54, 48], [121.34906737009685, 0.8389539241482954, 0.5757508277893066, 0.07564146812003435, 24, 54, {'neurons1': 24, 'neurons2': 54}, 0.9141374826431274, 0.9430249929428101, 0.9254875183105469, 0.9275499979654948, 0.011883109289347714, 15, 24, 54], [142.12798810005188, 0.40708893480516545, 0.5254253546396891, 0.024580340682483878, 42, 54, {'neurons1': 42, 'neurons2': 54}, 0.9245499968528748, 0.9405249953269958, 0.9413250088691711, 0.9354666670163473, 0.007726157777768278, 4, 42, 54], [143.16749715805054, 0.25308465627229026, 0.47655240694681805, 0.037084123944192325, 48, 54, {'neurons1': 48, 'neurons2': 54}, 0.9191374778747559, 0.9532874822616577, 0.9380999803543091, 0.9368416468302408, 0.013970045391233808, 2, 48, 54], [116.76180338859558, 1.1432062423697553, 0.4451457659403483, 0.031217633654700466, 18, 54, {'neurons1': 18, 'neurons2': 54}, 0.9020000100135803, 0.935699999332428, 0.9332749843597412, 0.9236583312352499, 0.015346711548085338, 23, 18, 54], [134.3625701268514, 0.7938446598534833, 0.5118273893992106, 0.03346200028122345, 30, 54, {'neurons1': 30, 'neurons2': 54}, 0.9173625111579895, 0.9419500231742859, 0.9187124967575073, 0.9260083436965942, 0.011285934423190007, 20, 30, 54], [137.03710905710855, 0.6510739370493928, 0.4913899103800456, 0.02779627308711066, 36, 54, {'neurons1': 36, 'neurons2': 54}, 0.9219250082969666, 0.9509375095367432, 0.9242374897003174, 0.932366669178009, 0.013165459259805615, 9, 36, 54], [135.61308654149374, 22.53969176118482, 0.4360199769337972, 0.12945511319141825, 54, 54, {'neurons1': 54, 'neurons2': 54}, 0.9262750148773193, 0.9518749713897705, 0.9415374994277954, 0.9398958285649618, 0.01051540951100671, 1, 54, 54]]\n",
            "[[84.80933793385823, 0.9268009524014286, 0.46041711171468097, 0.0685670650148812, 18, 18, {'neurons1': 18, 'neurons2': 18}, 0.8688499927520752, 0.903237521648407, 0.8884375095367432, 0.8868416746457418, 0.014083928255249348, 49, 18, 18], [97.88711293538411, 0.9364018203079421, 0.41953174273173016, 0.00787237903132617, 36, 18, {'neurons1': 36, 'neurons2': 18}, 0.8945249915122986, 0.9155250191688538, 0.9113875031471252, 0.9071458379427592, 0.009082733919309678, 44, 36, 18], [101.5287578900655, 0.208443483977196, 0.6900215943654379, 0.32802987376536, 42, 18, {'neurons1': 42, 'neurons2': 18}, 0.900950014591217, 0.9303249716758728, 0.9002875089645386, 0.9105208317438761, 0.014006253300125716, 39, 42, 18], [114.17059898376465, 0.5599940164517125, 0.4710724353790283, 0.01683048165409583, 54, 18, {'neurons1': 54, 'neurons2': 18}, 0.9021875262260437, 0.9315750002861023, 0.8889625072479248, 0.9075750112533569, 0.017808703619706562, 43, 54, 18], [84.88705277442932, 0.5164806559619401, 0.38016994794209796, 0.009855080142639867, 24, 18, {'neurons1': 24, 'neurons2': 18}, 0.8694375157356262, 0.9161624908447266, 0.9007375240325928, 0.8954458435376486, 0.019438916920822204, 48, 24, 18], [102.21394141515096, 0.3324134457896843, 0.4342806339263916, 0.05032750519373788, 48, 18, {'neurons1': 48, 'neurons2': 18}, 0.8888124823570251, 0.9371874928474426, 0.9014875292778015, 0.9091625014940897, 0.020481118278023746, 42, 48, 18], [95.95634428660075, 1.0474478952361372, 0.4555792013804118, 0.034057866677741334, 30, 18, {'neurons1': 30, 'neurons2': 18}, 0.8927249908447266, 0.9196249842643738, 0.908174991607666, 0.9068416555722555, 0.011022272912358235, 45, 30, 18], [86.49617671966553, 0.8971991692740079, 0.47020626068115234, 0.06776271314257414, 18, 24, {'neurons1': 18, 'neurons2': 24}, 0.8798499703407288, 0.9196000099182129, 0.8991374969482422, 0.8995291590690613, 0.01623024873532036, 47, 18, 24], [112.04679258664449, 0.7230043775967904, 0.5611326694488525, 0.12963708989834316, 42, 24, {'neurons1': 42, 'neurons2': 24}, 0.9114750027656555, 0.9342749714851379, 0.9156625270843506, 0.9204708337783813, 0.0099095746074269, 27, 42, 24], [119.92211580276489, 0.7061559158013838, 0.458618958791097, 0.048438648960806706, 54, 24, {'neurons1': 54, 'neurons2': 24}, 0.908637523651123, 0.9401624798774719, 0.9261000156402588, 0.9249666730562845, 0.012894936094653338, 21, 54, 24], [86.69313367207845, 0.5080988112626958, 0.40586034456888836, 0.018012854095646545, 24, 24, {'neurons1': 24, 'neurons2': 24}, 0.8947874903678894, 0.9283624887466431, 0.9049500226974487, 0.9093666672706604, 0.0140582168380367, 41, 24, 24], [99.46257122357686, 2.926551834697786, 0.512117862701416, 0.08702473225453515, 36, 24, {'neurons1': 36, 'neurons2': 24}, 0.9033374786376953, 0.9233875274658203, 0.9252625107765198, 0.9173291722933451, 0.009923188638034113, 31, 36, 24], [110.59473013877869, 0.7526349148386079, 0.43962717056274414, 0.02414103837320206, 48, 24, {'neurons1': 48, 'neurons2': 24}, 0.9048374891281128, 0.9351624846458435, 0.915612518787384, 0.9185374975204468, 0.012551705428061664, 28, 48, 24], [97.73438080151875, 0.6275591459271846, 0.42432204882303876, 0.02823589680175124, 30, 24, {'neurons1': 30, 'neurons2': 24}, 0.891700029373169, 0.925712525844574, 0.9181249737739563, 0.911845842997233, 0.014578136404395215, 38, 30, 24], [123.41656748453777, 0.6547184708737975, 0.47639091809590656, 0.04484167407548286, 42, 30, {'neurons1': 42, 'neurons2': 30}, 0.9057999849319458, 0.9352124929428101, 0.9229249954223633, 0.9213124910990397, 0.012061620524535428, 26, 42, 30], [105.86501089731853, 0.60689283271666, 0.40594832102457684, 0.016314697466747626, 30, 30, {'neurons1': 30, 'neurons2': 30}, 0.8981375098228455, 0.9332125186920166, 0.9149249792098999, 0.9154250025749207, 0.01432367688636042, 35, 30, 30], [120.15267856915791, 0.242771580672051, 0.4149937629699707, 0.004790142178697702, 48, 30, {'neurons1': 48, 'neurons2': 30}, 0.915737509727478, 0.941349983215332, 0.9271000027656555, 0.9280624985694885, 0.010478374497691366, 13, 48, 30], [96.65046858787537, 0.4584610162610013, 0.410001277923584, 0.016432347604086243, 24, 30, {'neurons1': 24, 'neurons2': 30}, 0.9010624885559082, 0.9323624968528748, 0.9173750281333923, 0.9169333378473917, 0.012781991174541997, 32, 24, 30], [130.4503115018209, 0.7557925759258063, 0.42200907071431476, 0.0053971773189853255, 54, 30, {'neurons1': 54, 'neurons2': 30}, 0.9109125137329102, 0.9385250210762024, 0.9300249814987183, 0.9264875054359436, 0.0115469460065384, 19, 54, 30], [95.63012393315633, 0.6042279893325496, 0.3971569538116455, 0.015458037811802824, 18, 30, {'neurons1': 18, 'neurons2': 30}, 0.8762750029563904, 0.9204124808311462, 0.9129999876022339, 0.9032291571299235, 0.01929820517345439, 46, 18, 30], [117.73343737920125, 0.2402678423806709, 0.459994633992513, 0.03311513734952403, 36, 30, {'neurons1': 36, 'neurons2': 30}, 0.9073500037193298, 0.9350875020027161, 0.9017375111579895, 0.9147250056266785, 0.014579631046677949, 36, 36, 30], [129.6616727511088, 0.36074202053104404, 0.48572532335917157, 0.03877707559147235, 42, 36, {'neurons1': 42, 'neurons2': 36}, 0.9124749898910522, 0.9391499757766724, 0.9306874871253967, 0.9274374842643738, 0.011129857948988721, 16, 42, 36], [139.55395682652792, 0.9533902988468825, 0.46463243166605633, 0.02480176308815631, 54, 36, {'neurons1': 54, 'neurons2': 36}, 0.9187374711036682, 0.9456624984741211, 0.9278625249862671, 0.9307541648546854, 0.011180651757131729, 10, 54, 36], [130.06744400660196, 0.25548138988048785, 0.4877353509267171, 0.01284434765716346, 48, 36, {'neurons1': 48, 'neurons2': 36}, 0.9121249914169312, 0.942425012588501, 0.9274250268936157, 0.9273250102996826, 0.012370134012712268, 17, 48, 36], [124.62245885531108, 2.174731748605418, 0.5466947555541992, 0.09515700348750784, 36, 36, {'neurons1': 36, 'neurons2': 36}, 0.9160749912261963, 0.9371125102043152, 0.9186499714851379, 0.9239458243052164, 0.00936941278870163, 22, 36, 36], [102.82796661059062, 1.5128139023615268, 0.4173063437143962, 0.009266780468480437, 18, 36, {'neurons1': 18, 'neurons2': 36}, 0.8961125016212463, 0.9270374774932861, 0.9124000072479248, 0.9118499954541525, 0.012631057435319958, 37, 18, 36], [120.56183767318726, 2.0773744629709827, 0.5182241598765055, 0.07531734554080369, 30, 36, {'neurons1': 30, 'neurons2': 36}, 0.9110124707221985, 0.9340999722480774, 0.9209625124931335, 0.9220249851544698, 0.00945532716846013, 25, 30, 36], [104.85771497090657, 1.7725086159721655, 0.47398797671000165, 0.04782029176000712, 24, 36, {'neurons1': 24, 'neurons2': 36}, 0.8943125009536743, 0.9317499995231628, 0.9032999873161316, 0.9097874959309896, 0.01595738910987647, 40, 24, 36], [128.92226012547812, 0.6537632688372467, 0.48157350222269696, 0.06746868602713074, 36, 42, {'neurons1': 36, 'neurons2': 42}, 0.9166250228881836, 0.9377999901771545, 0.9285874962806702, 0.9276708364486694, 0.008668910306682154, 14, 36, 42], [144.84021226565042, 0.7034685817103694, 0.5167108376820883, 0.025704873543033562, 54, 42, {'neurons1': 54, 'neurons2': 42}, 0.9215250015258789, 0.946524977684021, 0.9331125020980835, 0.9337208271026611, 0.010215258079961041, 6, 54, 42], [105.51316173871358, 0.45706493738122594, 0.41242361068725586, 0.012052830296632943, 18, 42, {'neurons1': 18, 'neurons2': 42}, 0.9053624868392944, 0.9294875264167786, 0.9144499897956848, 0.9164333343505859, 0.009948354147676417, 33, 18, 42], [125.76930443445842, 0.36773211024330027, 0.45211974779764813, 0.028943356663023993, 30, 42, {'neurons1': 30, 'neurons2': 42}, 0.909850001335144, 0.9299625158309937, 0.9146749973297119, 0.9181625048319498, 0.008573227368580426, 30, 30, 42], [134.32758816083273, 1.0829091087916085, 0.47599991162618, 0.053336460351904175, 42, 42, {'neurons1': 42, 'neurons2': 42}, 0.9144124984741211, 0.9439499974250793, 0.9413874745368958, 0.9332499901453654, 0.013361136434606779, 8, 42, 42], [133.38869508107504, 0.9889498927873303, 0.49105040232340497, 0.08047074681872321, 48, 42, {'neurons1': 48, 'neurons2': 42}, 0.9226750135421753, 0.9455249905586243, 0.9336875081062317, 0.9339625040690104, 0.00933049050149455, 5, 48, 42], [116.38547499974568, 1.0524652691578513, 0.5916101137797037, 0.04107812182618705, 24, 42, {'neurons1': 24, 'neurons2': 42}, 0.90625, 0.9321874976158142, 0.9283375144004822, 0.9222583373387655, 0.011428203152825294, 24, 24, 42], [107.36823836962382, 0.6787351633212503, 0.43928178151448566, 0.007970403149125456, 18, 48, {'neurons1': 18, 'neurons2': 48}, 0.897225022315979, 0.9303374886512756, 0.9201874732971191, 0.9159166614214579, 0.013851323216201038, 34, 18, 48], [134.85288381576538, 0.5228698913579258, 0.46756688753763836, 0.015489804344939432, 48, 48, {'neurons1': 48, 'neurons2': 48}, 0.9131500124931335, 0.9467999935150146, 0.947700023651123, 0.9358833432197571, 0.016079091143594116, 3, 48, 48], [117.36095682779948, 1.21630826392976, 0.531883160273234, 0.017093772307069603, 24, 48, {'neurons1': 24, 'neurons2': 48}, 0.9004999995231628, 0.9357125163078308, 0.9188249707221985, 0.9183458288510641, 0.014379441743385742, 29, 24, 48], [135.5370663801829, 0.4794069478586116, 0.4593193531036377, 0.029053094662208494, 42, 48, {'neurons1': 42, 'neurons2': 48}, 0.9211249947547913, 0.9462249875068665, 0.9336374998092651, 0.933662494023641, 0.010247044372943872, 7, 42, 48], [127.85848347345988, 0.41222376394111115, 0.4513255755106608, 0.0665588075113492, 30, 48, {'neurons1': 30, 'neurons2': 48}, 0.913100004196167, 0.9419999718666077, 0.9255625009536743, 0.9268874923388163, 0.011835504058162019, 18, 30, 48], [129.7217684586843, 0.6941918360259578, 0.5102603435516357, 0.028484187660256656, 36, 48, {'neurons1': 36, 'neurons2': 48}, 0.9144625067710876, 0.9473875164985657, 0.9301999807357788, 0.9306833346684774, 0.013445923537311028, 11, 36, 48], [147.2185595035553, 1.0806953772442, 0.5335951646169027, 0.04192055570634386, 54, 48, {'neurons1': 54, 'neurons2': 48}, 0.9205750226974487, 0.9466500282287598, 0.924512505531311, 0.9305791854858398, 0.011476931431280939, 12, 54, 48], [121.34906737009685, 0.8389539241482954, 0.5757508277893066, 0.07564146812003435, 24, 54, {'neurons1': 24, 'neurons2': 54}, 0.9141374826431274, 0.9430249929428101, 0.9254875183105469, 0.9275499979654948, 0.011883109289347714, 15, 24, 54], [142.12798810005188, 0.40708893480516545, 0.5254253546396891, 0.024580340682483878, 42, 54, {'neurons1': 42, 'neurons2': 54}, 0.9245499968528748, 0.9405249953269958, 0.9413250088691711, 0.9354666670163473, 0.007726157777768278, 4, 42, 54], [143.16749715805054, 0.25308465627229026, 0.47655240694681805, 0.037084123944192325, 48, 54, {'neurons1': 48, 'neurons2': 54}, 0.9191374778747559, 0.9532874822616577, 0.9380999803543091, 0.9368416468302408, 0.013970045391233808, 2, 48, 54], [116.76180338859558, 1.1432062423697553, 0.4451457659403483, 0.031217633654700466, 18, 54, {'neurons1': 18, 'neurons2': 54}, 0.9020000100135803, 0.935699999332428, 0.9332749843597412, 0.9236583312352499, 0.015346711548085338, 23, 18, 54], [134.3625701268514, 0.7938446598534833, 0.5118273893992106, 0.03346200028122345, 30, 54, {'neurons1': 30, 'neurons2': 54}, 0.9173625111579895, 0.9419500231742859, 0.9187124967575073, 0.9260083436965942, 0.011285934423190007, 20, 30, 54], [137.03710905710855, 0.6510739370493928, 0.4913899103800456, 0.02779627308711066, 36, 54, {'neurons1': 36, 'neurons2': 54}, 0.9219250082969666, 0.9509375095367432, 0.9242374897003174, 0.932366669178009, 0.013165459259805615, 9, 36, 54], [135.61308654149374, 22.53969176118482, 0.4360199769337972, 0.12945511319141825, 54, 54, {'neurons1': 54, 'neurons2': 54}, 0.9262750148773193, 0.9518749713897705, 0.9415374994277954, 0.9398958285649618, 0.01051540951100671, 1, 54, 54]]\n"
          ],
          "name": "stdout"
        }
      ]
    },
    {
      "cell_type": "code",
      "metadata": {
        "id": "RHulUjbi7dW1",
        "colab": {
          "base_uri": "https://localhost:8080/"
        },
        "outputId": "dae8efa0-3822-4667-cf4e-e3d9da153933"
      },
      "source": [
        "#définition des listes à exploiter\n",
        "\n",
        "accuracy = []\n",
        "accuracyfittime = []\n",
        "accuracytesttime = []\n",
        "testtime = []\n",
        "\n",
        "for j in range(len(neurons2)):\n",
        "  a = []\n",
        "  b = []\n",
        "  c = []\n",
        "  d = []\n",
        "  for i in range (len(neurons1)):\n",
        "    a+=[res[j*len(neurons1)+i][10]*100]\n",
        "    b+=[res[j*len(neurons1)+i][10]/res[i][0]]\n",
        "    c+=[res[j*len(neurons1)+i][10]/res[i][2]]\n",
        "    d+=[res[j*len(neurons1)+i][2]]\n",
        "  accuracy += [a]\n",
        "  accuracyfittime += [b]\n",
        "  accuracytesttime += [c]\n",
        "  testtime += [d]\n",
        "\n",
        "print(accuracy)\n",
        "print(accuracyfittime)\n",
        "print(accuracytesttime)\n",
        "print(testtime)"
      ],
      "execution_count": null,
      "outputs": [
        {
          "output_type": "stream",
          "text": [
            "[[88.68416746457419, 90.71458379427591, 91.0520831743876, 90.7575011253357, 89.54458435376486, 90.91625014940897, 90.68416555722555], [89.95291590690613, 92.04708337783813, 92.49666730562845, 90.93666672706604, 91.7329172293345, 91.85374975204468, 91.1845842997233], [92.13124910990396, 91.54250025749207, 92.80624985694885, 91.69333378473917, 92.64875054359436, 90.32291571299234, 91.47250056266785], [92.74374842643738, 93.07541648546854, 92.73250102996826, 92.39458243052164, 91.18499954541525, 92.20249851544699, 90.97874959309897], [92.76708364486694, 93.37208271026611, 91.6433334350586, 91.81625048319498, 93.32499901453653, 93.39625040690103, 92.22583373387656], [91.59166614214578, 93.58833432197571, 91.83458288510641, 93.3662494023641, 92.68874923388162, 93.06833346684775, 93.05791854858398], [92.75499979654947, 93.54666670163473, 93.68416468302408, 92.365833123525, 92.60083436965942, 93.2366669178009, 93.98958285649618]]\n",
            "[[0.01045688713355337, 0.009267265227666606, 0.00896810766393676, 0.007949288339832713, 0.01054867396465183, 0.008894701533927215, 0.009450564861701238], [0.010606487221614596, 0.00940339137784143, 0.009110390910699713, 0.007964981136693298, 0.010806467444817142, 0.008986420881567668, 0.009502715529405202], [0.010863337853404305, 0.0093518439263726, 0.009140883015375672, 0.008031256260447421, 0.010914355901811107, 0.008836653245386345, 0.009532720451443977], [0.01093555859365004, 0.009508444339032474, 0.009133619179147078, 0.008092677383926172, 0.01074192077179561, 0.009020540372370378, 0.009481264659412743], [0.010938310085289766, 0.009538751313658786, 0.009026342421552052, 0.008042022315767257, 0.010994020402914612, 0.009137329909582874, 0.00961122835801435], [0.01079971479244149, 0.009560843252548877, 0.009045179394841424, 0.008177783968326295, 0.010919067891328939, 0.009105248479641587, 0.009697943292904136], [0.010936885260074542, 0.009556586551223087, 0.009227352587575682, 0.0080901592831846, 0.010908711204254901, 0.009121717216549936, 0.009795035810844326]]\n",
            "[[1.926170101156698, 2.162281766895608, 1.3195541113191032, 1.9266145566830193, 2.355383029050024, 2.093490776400101, 1.9905247053081259], [1.9537266017742987, 2.1940433583996457, 1.340489458024728, 1.9304179123513718, 2.4129449927827, 2.115078190836698, 2.0015089368310197], [2.0010387704051587, 2.182016065373842, 1.3449760212547541, 1.9464805600642299, 2.4370350956226896, 2.079828310472201, 2.0078287218886377], [2.014341910122367, 2.218554807782106, 1.3439072311243756, 1.9613667769836773, 2.398532552060197, 2.1231086839362687, 1.9969908485161743], [2.0148487379060405, 2.225626173177865, 1.3281226875129355, 1.9490898551370122, 2.4548231526377897, 2.150596713523524, 2.0243644454011704], [1.989319332659922, 2.230780767924415, 1.330894331931161, 1.9819934768044947, 2.438087222191446, 2.143045906178316, 2.042628773803042], [2.0145862835356443, 2.229787574416108, 1.3576990263497264, 1.9607564821577124, 2.435774707362273, 2.1469220507217934, 2.0630788800653397]]\n",
            "[[0.46041711171468097, 0.41953174273173016, 0.6900215943654379, 0.4710724353790283, 0.38016994794209796, 0.4342806339263916, 0.4555792013804118], [0.47020626068115234, 0.5611326694488525, 0.458618958791097, 0.40586034456888836, 0.512117862701416, 0.43962717056274414, 0.42432204882303876], [0.47639091809590656, 0.40594832102457684, 0.4149937629699707, 0.410001277923584, 0.42200907071431476, 0.3971569538116455, 0.459994633992513], [0.48572532335917157, 0.46463243166605633, 0.4877353509267171, 0.5466947555541992, 0.4173063437143962, 0.5182241598765055, 0.47398797671000165], [0.48157350222269696, 0.5167108376820883, 0.41242361068725586, 0.45211974779764813, 0.47599991162618, 0.49105040232340497, 0.5916101137797037], [0.43928178151448566, 0.46756688753763836, 0.531883160273234, 0.4593193531036377, 0.4513255755106608, 0.5102603435516357, 0.5335951646169027], [0.5757508277893066, 0.5254253546396891, 0.47655240694681805, 0.4451457659403483, 0.5118273893992106, 0.4913899103800456, 0.4360199769337972]]\n"
          ],
          "name": "stdout"
        }
      ]
    },
    {
      "cell_type": "code",
      "metadata": {
        "id": "Sfa3vVP6bFp9"
      },
      "source": [
        "#définition des labels des graphs\n",
        "\n",
        "X = np.arange(len(neurons1))\n",
        "width1 = float(1/(2*len(neurons1)))\n",
        "labeln1 = []\n",
        "labeln2 = []\n",
        "\n",
        "for i in range (len(neurons1)):\n",
        "  labeln1 += ['n1 = ' + str(neurons1[i])]\n",
        "\n",
        "for i in range (len(neurons2)):\n",
        "  labeln2 += ['n2 = ' + str(neurons2[i])]"
      ],
      "execution_count": null,
      "outputs": []
    },
    {
      "cell_type": "code",
      "metadata": {
        "id": "HeG0Qe2DDfOi",
        "colab": {
          "base_uri": "https://localhost:8080/",
          "height": 1000
        },
        "outputId": "7c5f2f21-103e-45c4-c5fd-832a06cb6ded"
      },
      "source": [
        "# accuracy\n",
        "fig = plt.figure(figsize=(15,15))\n",
        "ax = fig.add_axes([0,0,1,1])\n",
        "\n",
        "for i in range(len(neurons2)):\n",
        "  ax.bar(X + float(i)*0.5/float(len(neurons2)), accuracy[i], width=width1)\n",
        "\n",
        "ax.set_title('Accuracy en fonction du nombre de neurones sur les couches cachées')\n",
        "ax.set_xlabel(\"nombre de neurones (n1 : couche 1, n2 : couche 2)\")\n",
        "ax.set_ylabel(\"accuracy en %\")\n",
        "ax.legend(labels=labeln2)\n",
        "plt.xticks([i + width1 / len(neurons2) for i in range(len(neurons1))],labeln1)\n",
        "\n",
        "plt.plot()"
      ],
      "execution_count": null,
      "outputs": [
        {
          "output_type": "execute_result",
          "data": {
            "text/plain": [
              "[]"
            ]
          },
          "metadata": {
            "tags": []
          },
          "execution_count": 13
        },
        {
          "output_type": "display_data",
          "data": {
            "image/png": "[encoded data removed]",
            "text/plain": [
              "<Figure size 1080x1080 with 1 Axes>"
            ]
          },
          "metadata": {
            "tags": [],
            "needs_background": "light"
          }
        }
      ]
    },
    {
      "cell_type": "code",
      "metadata": {
        "id": "KZOEcSgiDf-o",
        "colab": {
          "base_uri": "https://localhost:8080/",
          "height": 1000
        },
        "outputId": "2b381943-069b-4611-eb4f-6c4d229a962f"
      },
      "source": [
        "# accuracy/tempstrain\n",
        "fig = plt.figure(figsize=(15,15))\n",
        "ax = fig.add_axes([0,0,1,1])\n",
        "\n",
        "for i in range(len(neurons2)):\n",
        "  ax.bar(X + float(i)*0.5/float(len(neurons2)), accuracyfittime[i], width=width1)\n",
        "\n",
        "ax.set_title('Rapport accuracy / fit time en fonction du nombre de neurones sur les couches cachées')\n",
        "ax.set_xlabel(\"nombre de neurones (n1 : couche 1, n2 : couche 2)\")\n",
        "ax.set_ylabel(\"rapport accuracy / temps d'entraînement\")\n",
        "ax.legend(labels=labeln2)\n",
        "plt.xticks([i + width1 / len(neurons2) for i in range(len(neurons1))],labeln1)\n",
        "\n",
        "plt.plot()"
      ],
      "execution_count": null,
      "outputs": [
        {
          "output_type": "execute_result",
          "data": {
            "text/plain": [
              "[]"
            ]
          },
          "metadata": {
            "tags": []
          },
          "execution_count": 14
        },
        {
          "output_type": "display_data",
          "data": {
            "image/png": "[encoded data removed]",
            "text/plain": [
              "<Figure size 1080x1080 with 1 Axes>"
            ]
          },
          "metadata": {
            "tags": [],
            "needs_background": "light"
          }
        }
      ]
    },
    {
      "cell_type": "code",
      "metadata": {
        "id": "QqXSkWMrKV8z",
        "colab": {
          "base_uri": "https://localhost:8080/",
          "height": 1000
        },
        "outputId": "ebd4e8d2-fcc6-4ec5-d5f9-b5b7adf40555"
      },
      "source": [
        "# accuracy/tempstest\n",
        "fig = plt.figure(figsize=(15,15))\n",
        "ax = fig.add_axes([0,0,1,1])\n",
        "\n",
        "for i in range(len(neurons2)):\n",
        "  ax.bar(X + float(i)*0.5/float(len(neurons2)), accuracytesttime[i], width=width1)\n",
        "\n",
        "ax.set_title('Rapport accuracy / test time en fonction du nombre de neurones sur les couches cachées')\n",
        "ax.set_xlabel(\"nombre de neurones (n1 : couche 1, n2 : couche 2)\")\n",
        "ax.set_ylabel(\"rapport accuracy / temps de test\")\n",
        "ax.legend(labels=labeln2)\n",
        "plt.xticks([i + width1 / len(neurons2) for i in range(len(neurons1))],labeln1)\n",
        "\n",
        "plt.plot()"
      ],
      "execution_count": null,
      "outputs": [
        {
          "output_type": "execute_result",
          "data": {
            "text/plain": [
              "[]"
            ]
          },
          "metadata": {
            "tags": []
          },
          "execution_count": 15
        },
        {
          "output_type": "display_data",
          "data": {
            "image/png": "[encoded data removed]",
            "text/plain": [
              "<Figure size 1080x1080 with 1 Axes>"
            ]
          },
          "metadata": {
            "tags": [],
            "needs_background": "light"
          }
        }
      ]
    },
    {
      "cell_type": "code",
      "metadata": {
        "id": "LR_B-qz_0yiz",
        "colab": {
          "base_uri": "https://localhost:8080/",
          "height": 1000
        },
        "outputId": "abce6b1e-662e-46f2-8bcc-54f2eb746cb4"
      },
      "source": [
        "# testtime\n",
        "fig = plt.figure(figsize=(15,15))\n",
        "ax = fig.add_axes([0,0,1,1])\n",
        "\n",
        "for i in range(len(neurons2)):\n",
        "  ax.bar(X + float(i)*0.5/float(len(neurons2)), testtime[i], width=width1)\n",
        "\n",
        "ax.set_title('Temps de prédiction en fonction du nombre de neurones sur les couches cachées')\n",
        "ax.set_xlabel(\"nombre de neurones (n1 : couche 1, n2 : couche 2)\")\n",
        "ax.set_ylabel(\"temps de prédiction en s\")\n",
        "ax.legend(labels=labeln2)\n",
        "plt.xticks([i + width1 / len(neurons2) for i in range(len(neurons1))],labeln1)\n",
        "\n",
        "plt.plot()"
      ],
      "execution_count": null,
      "outputs": [
        {
          "output_type": "execute_result",
          "data": {
            "text/plain": [
              "[]"
            ]
          },
          "metadata": {
            "tags": []
          },
          "execution_count": 17
        },
        {
          "output_type": "display_data",
          "data": {
            "image/png": "[encoded data removed]",
            "text/plain": [
              "<Figure size 1080x1080 with 1 Axes>"
            ]
          },
          "metadata": {
            "tags": [],
            "needs_background": "light"
          }
        }
      ]
    }
  ]
}